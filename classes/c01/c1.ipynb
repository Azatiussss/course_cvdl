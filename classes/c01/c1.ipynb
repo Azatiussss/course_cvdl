{
 "cells": [
  {
   "cell_type": "markdown",
   "id": "13242d04-adf8-49da-a7be-0d9f10989beb",
   "metadata": {},
   "source": [
    "## Занятие 1. Обратное распространение ошибки + Numpy туториал. "
   ]
  },
  {
   "cell_type": "markdown",
   "id": "940c3f5d-3bbb-4126-b2b4-72ae4c2f2611",
   "metadata": {},
   "source": [
    "### Запуск тестов пакета"
   ]
  },
  {
   "cell_type": "code",
   "execution_count": 1,
   "id": "cb4ba7cb-2367-4921-93cd-9bd2aa6de4e0",
   "metadata": {},
   "outputs": [
    {
     "name": "stdout",
     "output_type": "stream",
     "text": [
      "============================= test session starts =============================\n",
      "platform win32 -- Python 3.7.6, pytest-6.2.4, py-1.10.0, pluggy-0.13.1\n",
      "rootdir: D:\\Repositories\\abbyy_course_cvdl\\lessons\\l1\n",
      "plugins: anyio-3.0.1, typeguard-2.7.1\n",
      "collected 4 items\n",
      "\n",
      ". FFFF                                                                   [100%]\n",
      "\n",
      "================================== FAILURES ===================================\n",
      "_______________________ TestLayer.test_init[test_data0] _______________________\n",
      "\n",
      "self = <abbyy_course_cvdl_t1.tests.base.TestLayer object at 0x000001A1F8B15F88>\n",
      "test_data = {'meta': {'description': 'The only ReLU test.', 'layer_kwargs': {}}, 'values': {'input': [[[[0.3445909917354584, -0.44...36354065], [0.320019006729126, 0.7765920162200928, 0.8497490286827087, 0.796563982963562, 0.9298689961433411]]]], ...}}\n",
      "test_layer_cls = <class 'abbyy_course_cvdl_t1.relu.ReluLayer'>\n",
      "\n",
      "    def test_init(self, test_data, test_layer_cls):\n",
      "        values = test_data['values']\n",
      "        meta = test_data['meta']\n",
      "        layer_kwargs = meta['layer_kwargs']\n",
      "    \n",
      "        # check layer creation\n",
      "        try:\n",
      ">           layer = test_layer_cls(**layer_kwargs)\n",
      "\n",
      "..\\..\\task1\\abbyy_course_cvdl_t1\\tests\\base.py:32: \n",
      "_ _ _ _ _ _ _ _ _ _ _ _ _ _ _ _ _ _ _ _ _ _ _ _ _ _ _ _ _ _ _ _ _ _ _ _ _ _ _ _\n",
      "\n",
      "self = <abbyy_course_cvdl_t1.relu.ReluLayer object at 0x000001A1F8B24088>\n",
      "\n",
      "    def __init__(self):\n",
      "        super().__init__()\n",
      ">       raise NotImplementedError()\n",
      "E       NotImplementedError\n",
      "\n",
      "..\\..\\task1\\abbyy_course_cvdl_t1\\relu.py:12: NotImplementedError\n",
      "\n",
      "During handling of the above exception, another exception occurred:\n",
      "\n",
      "self = <abbyy_course_cvdl_t1.tests.base.TestLayer object at 0x000001A1F8B15F88>\n",
      "test_data = {'meta': {'description': 'The only ReLU test.', 'layer_kwargs': {}}, 'values': {'input': [[[[0.3445909917354584, -0.44...36354065], [0.320019006729126, 0.7765920162200928, 0.8497490286827087, 0.796563982963562, 0.9298689961433411]]]], ...}}\n",
      "test_layer_cls = <class 'abbyy_course_cvdl_t1.relu.ReluLayer'>\n",
      "\n",
      "    def test_init(self, test_data, test_layer_cls):\n",
      "        values = test_data['values']\n",
      "        meta = test_data['meta']\n",
      "        layer_kwargs = meta['layer_kwargs']\n",
      "    \n",
      "        # check layer creation\n",
      "        try:\n",
      "            layer = test_layer_cls(**layer_kwargs)\n",
      "        except Exception as exc:\n",
      "            raise AssertionError(\n",
      ">               self.error_message(meta, f\"Failed __init__ with kwargs '{layer_kwargs}':{exc}\")\n",
      "            )\n",
      "E           AssertionError: [The only ReLU test.]:Failed __init__ with kwargs '{}':\n",
      "\n",
      "..\\..\\task1\\abbyy_course_cvdl_t1\\tests\\base.py:35: AssertionError\n",
      "_____________________ TestLayer.test_forward[test_data0] ______________________\n",
      "\n",
      "self = <abbyy_course_cvdl_t1.tests.base.TestLayer object at 0x000001A1E95AC388>\n",
      "test_data = {'meta': {'description': 'The only ReLU test.', 'layer_kwargs': {}}, 'values': {'input': [[[[0.3445909917354584, -0.44...36354065], [0.320019006729126, 0.7765920162200928, 0.8497490286827087, 0.796563982963562, 0.9298689961433411]]]], ...}}\n",
      "test_layer_cls = <class 'abbyy_course_cvdl_t1.relu.ReluLayer'>\n",
      "\n",
      "    def test_init(self, test_data, test_layer_cls):\n",
      "        values = test_data['values']\n",
      "        meta = test_data['meta']\n",
      "        layer_kwargs = meta['layer_kwargs']\n",
      "    \n",
      "        # check layer creation\n",
      "        try:\n",
      ">           layer = test_layer_cls(**layer_kwargs)\n",
      "\n",
      "..\\..\\task1\\abbyy_course_cvdl_t1\\tests\\base.py:32: \n",
      "_ _ _ _ _ _ _ _ _ _ _ _ _ _ _ _ _ _ _ _ _ _ _ _ _ _ _ _ _ _ _ _ _ _ _ _ _ _ _ _\n",
      "\n",
      "self = <abbyy_course_cvdl_t1.relu.ReluLayer object at 0x000001A1E95ACA88>\n",
      "\n",
      "    def __init__(self):\n",
      "        super().__init__()\n",
      ">       raise NotImplementedError()\n",
      "E       NotImplementedError\n",
      "\n",
      "..\\..\\task1\\abbyy_course_cvdl_t1\\relu.py:12: NotImplementedError\n",
      "\n",
      "During handling of the above exception, another exception occurred:\n",
      "\n",
      "self = <abbyy_course_cvdl_t1.tests.base.TestLayer object at 0x000001A1E95AC388>\n",
      "test_data = {'meta': {'description': 'The only ReLU test.', 'layer_kwargs': {}}, 'values': {'input': [[[[0.3445909917354584, -0.44...36354065], [0.320019006729126, 0.7765920162200928, 0.8497490286827087, 0.796563982963562, 0.9298689961433411]]]], ...}}\n",
      "test_layer_cls = <class 'abbyy_course_cvdl_t1.relu.ReluLayer'>\n",
      "\n",
      "    def test_forward(self, test_data, test_layer_cls):\n",
      ">       layer = self.test_init(test_data, test_layer_cls)\n",
      "\n",
      "..\\..\\task1\\abbyy_course_cvdl_t1\\tests\\base.py:53: \n",
      "_ _ _ _ _ _ _ _ _ _ _ _ _ _ _ _ _ _ _ _ _ _ _ _ _ _ _ _ _ _ _ _ _ _ _ _ _ _ _ _\n",
      "\n",
      "self = <abbyy_course_cvdl_t1.tests.base.TestLayer object at 0x000001A1E95AC388>\n",
      "test_data = {'meta': {'description': 'The only ReLU test.', 'layer_kwargs': {}}, 'values': {'input': [[[[0.3445909917354584, -0.44...36354065], [0.320019006729126, 0.7765920162200928, 0.8497490286827087, 0.796563982963562, 0.9298689961433411]]]], ...}}\n",
      "test_layer_cls = <class 'abbyy_course_cvdl_t1.relu.ReluLayer'>\n",
      "\n",
      "    def test_init(self, test_data, test_layer_cls):\n",
      "        values = test_data['values']\n",
      "        meta = test_data['meta']\n",
      "        layer_kwargs = meta['layer_kwargs']\n",
      "    \n",
      "        # check layer creation\n",
      "        try:\n",
      "            layer = test_layer_cls(**layer_kwargs)\n",
      "        except Exception as exc:\n",
      "            raise AssertionError(\n",
      ">               self.error_message(meta, f\"Failed __init__ with kwargs '{layer_kwargs}':{exc}\")\n",
      "            )\n",
      "E           AssertionError: [The only ReLU test.]:Failed __init__ with kwargs '{}':\n",
      "\n",
      "..\\..\\task1\\abbyy_course_cvdl_t1\\tests\\base.py:35: AssertionError\n",
      "_____________________ TestLayer.test_backward[test_data0] _____________________\n",
      "\n",
      "self = <abbyy_course_cvdl_t1.tests.base.TestLayer object at 0x000001A1E93D8448>\n",
      "test_data = {'meta': {'description': 'The only ReLU test.', 'layer_kwargs': {}}, 'values': {'input': [[[[0.3445909917354584, -0.44...36354065], [0.320019006729126, 0.7765920162200928, 0.8497490286827087, 0.796563982963562, 0.9298689961433411]]]], ...}}\n",
      "test_layer_cls = <class 'abbyy_course_cvdl_t1.relu.ReluLayer'>\n",
      "\n",
      "    def test_init(self, test_data, test_layer_cls):\n",
      "        values = test_data['values']\n",
      "        meta = test_data['meta']\n",
      "        layer_kwargs = meta['layer_kwargs']\n",
      "    \n",
      "        # check layer creation\n",
      "        try:\n",
      ">           layer = test_layer_cls(**layer_kwargs)\n",
      "\n",
      "..\\..\\task1\\abbyy_course_cvdl_t1\\tests\\base.py:32: \n",
      "_ _ _ _ _ _ _ _ _ _ _ _ _ _ _ _ _ _ _ _ _ _ _ _ _ _ _ _ _ _ _ _ _ _ _ _ _ _ _ _\n",
      "\n",
      "self = <abbyy_course_cvdl_t1.relu.ReluLayer object at 0x000001A1E93CEE08>\n",
      "\n",
      "    def __init__(self):\n",
      "        super().__init__()\n",
      ">       raise NotImplementedError()\n",
      "E       NotImplementedError\n",
      "\n",
      "..\\..\\task1\\abbyy_course_cvdl_t1\\relu.py:12: NotImplementedError\n",
      "\n",
      "During handling of the above exception, another exception occurred:\n",
      "\n",
      "self = <abbyy_course_cvdl_t1.tests.base.TestLayer object at 0x000001A1E93D8448>\n",
      "test_data = {'meta': {'description': 'The only ReLU test.', 'layer_kwargs': {}}, 'values': {'input': [[[[0.3445909917354584, -0.44...36354065], [0.320019006729126, 0.7765920162200928, 0.8497490286827087, 0.796563982963562, 0.9298689961433411]]]], ...}}\n",
      "test_layer_cls = <class 'abbyy_course_cvdl_t1.relu.ReluLayer'>\n",
      "\n",
      "    def test_backward(self, test_data, test_layer_cls):\n",
      ">       layer = self.test_forward(test_data, test_layer_cls)\n",
      "\n",
      "..\\..\\task1\\abbyy_course_cvdl_t1\\tests\\base.py:69: \n",
      "_ _ _ _ _ _ _ _ _ _ _ _ _ _ _ _ _ _ _ _ _ _ _ _ _ _ _ _ _ _ _ _ _ _ _ _ _ _ _ _\n",
      "..\\..\\task1\\abbyy_course_cvdl_t1\\tests\\base.py:53: in test_forward\n",
      "    layer = self.test_init(test_data, test_layer_cls)\n",
      "_ _ _ _ _ _ _ _ _ _ _ _ _ _ _ _ _ _ _ _ _ _ _ _ _ _ _ _ _ _ _ _ _ _ _ _ _ _ _ _\n",
      "\n",
      "self = <abbyy_course_cvdl_t1.tests.base.TestLayer object at 0x000001A1E93D8448>\n",
      "test_data = {'meta': {'description': 'The only ReLU test.', 'layer_kwargs': {}}, 'values': {'input': [[[[0.3445909917354584, -0.44...36354065], [0.320019006729126, 0.7765920162200928, 0.8497490286827087, 0.796563982963562, 0.9298689961433411]]]], ...}}\n",
      "test_layer_cls = <class 'abbyy_course_cvdl_t1.relu.ReluLayer'>\n",
      "\n",
      "    def test_init(self, test_data, test_layer_cls):\n",
      "        values = test_data['values']\n",
      "        meta = test_data['meta']\n",
      "        layer_kwargs = meta['layer_kwargs']\n",
      "    \n",
      "        # check layer creation\n",
      "        try:\n",
      "            layer = test_layer_cls(**layer_kwargs)\n",
      "        except Exception as exc:\n",
      "            raise AssertionError(\n",
      ">               self.error_message(meta, f\"Failed __init__ with kwargs '{layer_kwargs}':{exc}\")\n",
      "            )\n",
      "E           AssertionError: [The only ReLU test.]:Failed __init__ with kwargs '{}':\n",
      "\n",
      "..\\..\\task1\\abbyy_course_cvdl_t1\\tests\\base.py:35: AssertionError\n",
      "_________________ TestLayer.test_parameters_grads[test_data0] _________________\n",
      "\n",
      "self = <abbyy_course_cvdl_t1.tests.base.TestLayer object at 0x000001A1E9D4EB08>\n",
      "test_data = {'meta': {'description': 'The only ReLU test.', 'layer_kwargs': {}}, 'values': {'input': [[[[0.3445909917354584, -0.44...36354065], [0.320019006729126, 0.7765920162200928, 0.8497490286827087, 0.796563982963562, 0.9298689961433411]]]], ...}}\n",
      "test_layer_cls = <class 'abbyy_course_cvdl_t1.relu.ReluLayer'>\n",
      "\n",
      "    def test_init(self, test_data, test_layer_cls):\n",
      "        values = test_data['values']\n",
      "        meta = test_data['meta']\n",
      "        layer_kwargs = meta['layer_kwargs']\n",
      "    \n",
      "        # check layer creation\n",
      "        try:\n",
      ">           layer = test_layer_cls(**layer_kwargs)\n",
      "\n",
      "..\\..\\task1\\abbyy_course_cvdl_t1\\tests\\base.py:32: \n",
      "_ _ _ _ _ _ _ _ _ _ _ _ _ _ _ _ _ _ _ _ _ _ _ _ _ _ _ _ _ _ _ _ _ _ _ _ _ _ _ _\n",
      "\n",
      "self = <abbyy_course_cvdl_t1.relu.ReluLayer object at 0x000001A1E9D4E4C8>\n",
      "\n",
      "    def __init__(self):\n",
      "        super().__init__()\n",
      ">       raise NotImplementedError()\n",
      "E       NotImplementedError\n",
      "\n",
      "..\\..\\task1\\abbyy_course_cvdl_t1\\relu.py:12: NotImplementedError\n",
      "\n",
      "During handling of the above exception, another exception occurred:\n",
      "\n",
      "self = <abbyy_course_cvdl_t1.tests.base.TestLayer object at 0x000001A1E9D4EB08>\n",
      "test_data = {'meta': {'description': 'The only ReLU test.', 'layer_kwargs': {}}, 'values': {'input': [[[[0.3445909917354584, -0.44...36354065], [0.320019006729126, 0.7765920162200928, 0.8497490286827087, 0.796563982963562, 0.9298689961433411]]]], ...}}\n",
      "test_layer_cls = <class 'abbyy_course_cvdl_t1.relu.ReluLayer'>\n",
      "\n",
      "    def test_parameters_grads(self, test_data, test_layer_cls):\n",
      ">       layer = self.test_backward(test_data, test_layer_cls)\n",
      "\n",
      "..\\..\\task1\\abbyy_course_cvdl_t1\\tests\\base.py:83: \n",
      "_ _ _ _ _ _ _ _ _ _ _ _ _ _ _ _ _ _ _ _ _ _ _ _ _ _ _ _ _ _ _ _ _ _ _ _ _ _ _ _\n",
      "..\\..\\task1\\abbyy_course_cvdl_t1\\tests\\base.py:69: in test_backward\n",
      "    layer = self.test_forward(test_data, test_layer_cls)\n",
      "..\\..\\task1\\abbyy_course_cvdl_t1\\tests\\base.py:53: in test_forward\n",
      "    layer = self.test_init(test_data, test_layer_cls)\n",
      "_ _ _ _ _ _ _ _ _ _ _ _ _ _ _ _ _ _ _ _ _ _ _ _ _ _ _ _ _ _ _ _ _ _ _ _ _ _ _ _\n",
      "\n",
      "self = <abbyy_course_cvdl_t1.tests.base.TestLayer object at 0x000001A1E9D4EB08>\n",
      "test_data = {'meta': {'description': 'The only ReLU test.', 'layer_kwargs': {}}, 'values': {'input': [[[[0.3445909917354584, -0.44...36354065], [0.320019006729126, 0.7765920162200928, 0.8497490286827087, 0.796563982963562, 0.9298689961433411]]]], ...}}\n",
      "test_layer_cls = <class 'abbyy_course_cvdl_t1.relu.ReluLayer'>\n",
      "\n",
      "    def test_init(self, test_data, test_layer_cls):\n",
      "        values = test_data['values']\n",
      "        meta = test_data['meta']\n",
      "        layer_kwargs = meta['layer_kwargs']\n",
      "    \n",
      "        # check layer creation\n",
      "        try:\n",
      "            layer = test_layer_cls(**layer_kwargs)\n",
      "        except Exception as exc:\n",
      "            raise AssertionError(\n",
      ">               self.error_message(meta, f\"Failed __init__ with kwargs '{layer_kwargs}':{exc}\")\n",
      "            )\n",
      "E           AssertionError: [The only ReLU test.]:Failed __init__ with kwargs '{}':\n",
      "\n",
      "..\\..\\task1\\abbyy_course_cvdl_t1\\tests\\base.py:35: AssertionError\n",
      "=========================== short test summary info ===========================\n",
      "FAILED ::TestLayer::test_init[test_data0] - AssertionError: [The only ReLU te...\n",
      "FAILED ::TestLayer::test_forward[test_data0] - AssertionError: [The only ReLU...\n",
      "FAILED ::TestLayer::test_backward[test_data0] - AssertionError: [The only ReL...\n",
      "FAILED ::TestLayer::test_parameters_grads[test_data0] - AssertionError: [The ...\n",
      "============================== 4 failed in 0.17s ==============================\n"
     ]
    }
   ],
   "source": [
    "! pytest --pyargs abbyy_course_cvdl_t1.tests.test_relu"
   ]
  },
  {
   "cell_type": "code",
   "execution_count": 2,
   "id": "d44bf6d8-c877-4ccd-ac08-13a5d3e02afb",
   "metadata": {},
   "outputs": [
    {
     "name": "stdout",
     "output_type": "stream",
     "text": [
      "Help on class ReluLayer in module abbyy_course_cvdl_t1.relu:\n",
      "\n",
      "class ReluLayer(abbyy_course_cvdl_t1.base.BaseLayer)\n",
      " |  Слой, выполняющий Relu активацию y = max(x, 0).\n",
      " |  Не имеет параметров.\n",
      " |  \n",
      " |  Method resolution order:\n",
      " |      ReluLayer\n",
      " |      abbyy_course_cvdl_t1.base.BaseLayer\n",
      " |      builtins.object\n",
      " |  \n",
      " |  Methods defined here:\n",
      " |  \n",
      " |  __init__(self)\n",
      " |      Initialize self.  See help(type(self)) for accurate signature.\n",
      " |  \n",
      " |  backward(self, output_grad: numpy.ndarray) -> numpy.ndarray\n",
      " |      Обратный проход, принимающий градиент ошибки по выходному тензору,\n",
      " |       (результату метода .forward) и возвращающий градиент ошибки по\n",
      " |       входному тензору (аргумент метода .forward).\n",
      " |      Метод .backward всегда вызывается после одного вызова .forward.\n",
      " |      Все слои всегда принимают и возвращают только один тензор.\n",
      " |  \n",
      " |  forward(self, input: numpy.ndarray) -> numpy.ndarray\n",
      " |      Прямой проход, выполняющий операцию над входными данными.\n",
      " |      Все слои всегда принимают и возвращают только один тензор.\n",
      " |  \n",
      " |  ----------------------------------------------------------------------\n",
      " |  Data descriptors inherited from abbyy_course_cvdl_t1.base.BaseLayer:\n",
      " |  \n",
      " |  __dict__\n",
      " |      dictionary for instance variables (if defined)\n",
      " |  \n",
      " |  __weakref__\n",
      " |      list of weak references to the object (if defined)\n",
      " |  \n",
      " |  ----------------------------------------------------------------------\n",
      " |  Data and other attributes inherited from abbyy_course_cvdl_t1.base.BaseLayer:\n",
      " |  \n",
      " |  __metaclass__ = <class 'abc.ABCMeta'>\n",
      " |      Metaclass for defining Abstract Base Classes (ABCs).\n",
      " |      \n",
      " |      Use this metaclass to create an ABC.  An ABC can be subclassed\n",
      " |      directly, and then acts as a mix-in class.  You can also register\n",
      " |      unrelated concrete classes (even built-in classes) and unrelated\n",
      " |      ABCs as 'virtual subclasses' -- these and their descendants will\n",
      " |      be considered subclasses of the registering ABC by the built-in\n",
      " |      issubclass() function, but the registering ABC won't show up in\n",
      " |      their MRO (Method Resolution Order) nor will method\n",
      " |      implementations defined by the registering ABC be callable (not\n",
      " |      even via super()).\n",
      "\n",
      "None\n"
     ]
    }
   ],
   "source": [
    "import numpy as np\n",
    "from abbyy_course_cvdl_t1.relu import ReluLayer\n",
    "print(help(ReluLayer))"
   ]
  },
  {
   "cell_type": "markdown",
   "id": "7286dc38-4ceb-47b5-8aa9-95fa1e2f37b0",
   "metadata": {},
   "source": [
    "### Исправляем ReluLayer\n",
    "Задача: дописать ReluLayer.\\_\\_init\\_\\_, .forward()"
   ]
  },
  {
   "cell_type": "markdown",
   "id": "057a86b4-d68f-4d3a-87ca-a32eb2ca1e8a",
   "metadata": {},
   "source": [
    "### Создание тензоров"
   ]
  },
  {
   "cell_type": "code",
   "execution_count": 3,
   "id": "bb43a3ca-56c5-4b4b-b693-fd7093ad548d",
   "metadata": {},
   "outputs": [
    {
     "name": "stdout",
     "output_type": "stream",
     "text": [
      "[[[ 0.28750488 -0.33756362 -0.341148    0.48948753]\n",
      "  [-0.47151425  0.35885633 -0.0084212   0.13203471]\n",
      "  [-0.22166165  0.2084746   0.09357614 -0.15488479]]\n",
      "\n",
      " [[ 0.41247585  0.21567365  0.32508373  0.38682792]\n",
      "  [-0.32251743  0.26023734 -0.1231991  -0.38744072]\n",
      "  [-0.12572699  0.24214309  0.01106627 -0.40835472]]]\n",
      "[[[0. 0. 0. 0.]\n",
      "  [0. 0. 0. 0.]\n",
      "  [0. 0. 0. 0.]]\n",
      "\n",
      " [[0. 0. 0. 0.]\n",
      "  [0. 0. 0. 0.]\n",
      "  [0. 0. 0. 0.]]]\n"
     ]
    }
   ],
   "source": [
    "a = np.random.rand(2, 3, 4) - 0.5\n",
    "b = np.zeros(a.shape)\n",
    "print(a) \n",
    "print(b)"
   ]
  },
  {
   "cell_type": "markdown",
   "id": "7028b9a4-de31-4916-a9de-a8e93e050c34",
   "metadata": {},
   "source": [
    "### Поиск максимума"
   ]
  },
  {
   "cell_type": "code",
   "execution_count": 4,
   "id": "e1a17e10-44c4-4c31-8600-84b0e480905e",
   "metadata": {},
   "outputs": [
    {
     "data": {
      "text/plain": [
       "0.4894875330846026"
      ]
     },
     "execution_count": 4,
     "metadata": {},
     "output_type": "execute_result"
    }
   ],
   "source": [
    "np.max(a)"
   ]
  },
  {
   "cell_type": "code",
   "execution_count": 5,
   "id": "8e29145b-24b8-4987-89e8-67a053f81356",
   "metadata": {},
   "outputs": [
    {
     "data": {
      "text/plain": [
       "array([[[0.28750488, 0.        , 0.        , 0.48948753],\n",
       "        [0.        , 0.35885633, 0.        , 0.13203471],\n",
       "        [0.        , 0.2084746 , 0.09357614, 0.        ]],\n",
       "\n",
       "       [[0.41247585, 0.21567365, 0.32508373, 0.38682792],\n",
       "        [0.        , 0.26023734, 0.        , 0.        ],\n",
       "        [0.        , 0.24214309, 0.01106627, 0.        ]]])"
      ]
     },
     "execution_count": 5,
     "metadata": {},
     "output_type": "execute_result"
    }
   ],
   "source": [
    "np.maximum(a, b)"
   ]
  },
  {
   "cell_type": "code",
   "execution_count": 6,
   "id": "5bb85ebc-7706-4ec2-8b24-824e747dc79d",
   "metadata": {},
   "outputs": [
    {
     "data": {
      "text/plain": [
       "3"
      ]
     },
     "execution_count": 6,
     "metadata": {},
     "output_type": "execute_result"
    }
   ],
   "source": [
    "np.argmax(a)"
   ]
  },
  {
   "cell_type": "code",
   "execution_count": 7,
   "id": "befafd02-a750-46bb-8390-346eed5c7d82",
   "metadata": {},
   "outputs": [
    {
     "name": "stdout",
     "output_type": "stream",
     "text": [
      "0.4894875330846026\n",
      "---IndexError----\n"
     ]
    },
    {
     "ename": "IndexError",
     "evalue": "index 3 is out of bounds for axis 0 with size 2",
     "output_type": "error",
     "traceback": [
      "\u001b[1;31m---------------------------------------------------------------------------\u001b[0m",
      "\u001b[1;31mIndexError\u001b[0m                                Traceback (most recent call last)",
      "\u001b[1;32m<ipython-input-7-cf930a690443>\u001b[0m in \u001b[0;36m<module>\u001b[1;34m\u001b[0m\n\u001b[0;32m      1\u001b[0m \u001b[0mprint\u001b[0m\u001b[1;33m(\u001b[0m\u001b[0ma\u001b[0m\u001b[1;33m.\u001b[0m\u001b[0mflatten\u001b[0m\u001b[1;33m(\u001b[0m\u001b[1;33m)\u001b[0m\u001b[1;33m[\u001b[0m\u001b[0mnp\u001b[0m\u001b[1;33m.\u001b[0m\u001b[0margmax\u001b[0m\u001b[1;33m(\u001b[0m\u001b[0ma\u001b[0m\u001b[1;33m)\u001b[0m\u001b[1;33m]\u001b[0m\u001b[1;33m)\u001b[0m\u001b[1;33m\u001b[0m\u001b[1;33m\u001b[0m\u001b[0m\n\u001b[0;32m      2\u001b[0m \u001b[0mprint\u001b[0m\u001b[1;33m(\u001b[0m\u001b[1;34m'---IndexError----'\u001b[0m\u001b[1;33m)\u001b[0m\u001b[1;33m\u001b[0m\u001b[1;33m\u001b[0m\u001b[0m\n\u001b[1;32m----> 3\u001b[1;33m \u001b[0ma\u001b[0m\u001b[1;33m[\u001b[0m\u001b[0mnp\u001b[0m\u001b[1;33m.\u001b[0m\u001b[0margmax\u001b[0m\u001b[1;33m(\u001b[0m\u001b[0ma\u001b[0m\u001b[1;33m)\u001b[0m\u001b[1;33m]\u001b[0m\u001b[1;33m\u001b[0m\u001b[1;33m\u001b[0m\u001b[0m\n\u001b[0m",
      "\u001b[1;31mIndexError\u001b[0m: index 3 is out of bounds for axis 0 with size 2"
     ]
    }
   ],
   "source": [
    "print(a.flatten()[np.argmax(a)])\n",
    "print('---IndexError----')\n",
    "a[np.argmax(a)]"
   ]
  },
  {
   "cell_type": "markdown",
   "id": "1ef893aa-a089-4f2d-9365-2060351e0338",
   "metadata": {},
   "source": [
    "### Поэлементные операции"
   ]
  },
  {
   "cell_type": "code",
   "execution_count": 8,
   "id": "2898bed1-4df1-40fa-a501-48cfb5ac21a2",
   "metadata": {},
   "outputs": [
    {
     "data": {
      "text/plain": [
       "array([[[ 0., -0., -0.,  0.],\n",
       "        [-0.,  0., -0.,  0.],\n",
       "        [-0.,  0.,  0., -0.]],\n",
       "\n",
       "       [[ 0.,  0.,  0.,  0.],\n",
       "        [-0.,  0., -0., -0.],\n",
       "        [-0.,  0.,  0., -0.]]])"
      ]
     },
     "execution_count": 8,
     "metadata": {},
     "output_type": "execute_result"
    }
   ],
   "source": [
    "a * b"
   ]
  },
  {
   "cell_type": "code",
   "execution_count": 9,
   "id": "8f364020-a68f-4364-8f6c-1d26ab4ae1a1",
   "metadata": {},
   "outputs": [
    {
     "data": {
      "text/plain": [
       "array([[[ 0.28750488, -0.33756362, -0.341148  ,  0.48948753],\n",
       "        [-0.47151425,  0.35885633, -0.0084212 ,  0.13203471],\n",
       "        [-0.22166165,  0.2084746 ,  0.09357614, -0.15488479]],\n",
       "\n",
       "       [[ 0.41247585,  0.21567365,  0.32508373,  0.38682792],\n",
       "        [-0.32251743,  0.26023734, -0.1231991 , -0.38744072],\n",
       "        [-0.12572699,  0.24214309,  0.01106627, -0.40835472]]])"
      ]
     },
     "execution_count": 9,
     "metadata": {},
     "output_type": "execute_result"
    }
   ],
   "source": [
    "a + b"
   ]
  },
  {
   "cell_type": "markdown",
   "id": "d4690b68-b4d9-4758-a3ea-b046c88ade5b",
   "metadata": {},
   "source": [
    "### Индексация"
   ]
  },
  {
   "cell_type": "code",
   "execution_count": 10,
   "id": "0f91a904-8048-45e8-b02e-b1328f096b23",
   "metadata": {},
   "outputs": [
    {
     "name": "stdout",
     "output_type": "stream",
     "text": [
      "a             \t (2, 3, 4)\n",
      "a[0]          \t (3, 4)\n",
      "a[:, 0]       \t (2, 4)\n",
      "a[:, 0, 1:2]  \t (2, 2)\n",
      "a[:, [0], 1:2]\t (2, 1, 2)\n",
      "a[:, None]    \t (2, 1, 3, 4)\n"
     ]
    }
   ],
   "source": [
    "print(\"a             \\t\", a.shape)\n",
    "print(\"a[0]          \\t\", a[0].shape)\n",
    "print(\"a[:, 0]       \\t\", a[:, 0].shape)\n",
    "print(\"a[:, 0, 1:2]  \\t\", a[:, 0, 0:2].shape)\n",
    "print(\"a[:, [0], 1:2]\\t\", a[:, [0], 0:2].shape)\n",
    "print(\"a[:, None]    \\t\", a[:, None].shape)"
   ]
  },
  {
   "cell_type": "code",
   "execution_count": 11,
   "id": "fc080f93-2082-456b-9194-3b5a2416332f",
   "metadata": {},
   "outputs": [
    {
     "name": "stdout",
     "output_type": "stream",
     "text": [
      "(2, 3, 4) (2, 3, 4) bool\n"
     ]
    }
   ],
   "source": [
    "idx = a > 0\n",
    "print(a.shape, idx.shape, idx.dtype)"
   ]
  },
  {
   "cell_type": "code",
   "execution_count": 12,
   "id": "89005e9c-09ea-417a-a304-c46464969264",
   "metadata": {},
   "outputs": [
    {
     "data": {
      "text/plain": [
       "(13,)"
      ]
     },
     "execution_count": 12,
     "metadata": {},
     "output_type": "execute_result"
    }
   ],
   "source": [
    "a[idx].shape"
   ]
  },
  {
   "cell_type": "code",
   "execution_count": 13,
   "id": "d31de693-f2d8-4901-b607-b179153bada7",
   "metadata": {},
   "outputs": [
    {
     "data": {
      "text/plain": [
       "array([0.48948753])"
      ]
     },
     "execution_count": 13,
     "metadata": {},
     "output_type": "execute_result"
    }
   ],
   "source": [
    "a[a == np.max(a)]"
   ]
  },
  {
   "cell_type": "code",
   "execution_count": 14,
   "id": "11e74db3-3576-4941-9b07-94ce6cd7abaf",
   "metadata": {},
   "outputs": [
    {
     "name": "stdout",
     "output_type": "stream",
     "text": [
      "(2, 3, 4)\n"
     ]
    },
    {
     "data": {
      "text/plain": [
       "array([[[ 0,  1,  2,  3],\n",
       "        [ 4,  5,  6,  7],\n",
       "        [ 8,  9, 10, 11]],\n",
       "\n",
       "       [[12, 13, 14, 15],\n",
       "        [16, 17, 18, 19],\n",
       "        [20, 21, 22, 23]]])"
      ]
     },
     "execution_count": 14,
     "metadata": {},
     "output_type": "execute_result"
    }
   ],
   "source": [
    "c = np.arange(\n",
    "    np.prod(a.shape)\n",
    ").reshape(a.shape)\n",
    "print(c.shape)\n",
    "c"
   ]
  },
  {
   "cell_type": "code",
   "execution_count": 15,
   "id": "bca27411-981a-4e9f-90ba-709217a4767b",
   "metadata": {},
   "outputs": [
    {
     "data": {
      "text/plain": [
       "array([ 7, 22,  9,  8])"
      ]
     },
     "execution_count": 15,
     "metadata": {},
     "output_type": "execute_result"
    }
   ],
   "source": [
    "c[\n",
    "    [0, 1, 0, 0,],\n",
    "    [1, -1, 2, -1],\n",
    "    [3, 2, 1, 0]\n",
    "]"
   ]
  },
  {
   "cell_type": "code",
   "execution_count": 16,
   "id": "9e6497eb-4510-40e5-b9d6-9675b7755f39",
   "metadata": {},
   "outputs": [
    {
     "data": {
      "text/plain": [
       "array([[ 7, 22],\n",
       "       [ 9,  8]])"
      ]
     },
     "execution_count": 16,
     "metadata": {},
     "output_type": "execute_result"
    }
   ],
   "source": [
    "c[\n",
    "    [[0, 1],[0, 0,]],\n",
    "    [[1, -1],[2, -1]],\n",
    "    [[3, 2],[1, 0,]],\n",
    "]"
   ]
  },
  {
   "cell_type": "markdown",
   "id": "f17badf2-f0a4-4cdf-8a2a-8c5895acdca8",
   "metadata": {},
   "source": [
    "### Исправляем ReluLayer\n",
    "Задача: дописать ReluLayer.backward()"
   ]
  },
  {
   "cell_type": "code",
   "execution_count": 18,
   "id": "1b9899b2-e856-442f-8029-3485a106a9e9",
   "metadata": {},
   "outputs": [
    {
     "name": "stdout",
     "output_type": "stream",
     "text": [
      "============================= test session starts =============================\n",
      "platform win32 -- Python 3.7.6, pytest-6.2.4, py-1.10.0, pluggy-0.13.1\n",
      "rootdir: D:\\Repositories\\abbyy_course_cvdl\\lessons\\l1\n",
      "plugins: anyio-3.0.1, typeguard-2.7.1\n",
      "collected 4 items\n",
      "\n",
      ". ....                                                                   [100%]\n",
      "\n",
      "============================== 4 passed in 0.10s ==============================\n"
     ]
    }
   ],
   "source": [
    "! pytest --pyargs abbyy_course_cvdl_t1.tests.test_relu -x"
   ]
  },
  {
   "cell_type": "markdown",
   "id": "012157e7-f01e-4fcd-aa91-f250433fe5d9",
   "metadata": {},
   "source": [
    "### Broadcasting"
   ]
  },
  {
   "cell_type": "code",
   "execution_count": 19,
   "id": "dc509d45-441f-4b2e-95e7-ce2084488c4a",
   "metadata": {},
   "outputs": [
    {
     "name": "stdout",
     "output_type": "stream",
     "text": [
      "(4, 2) (1, 2) (4, 2)\n",
      "[[  0  20]\n",
      " [ 20  60]\n",
      " [ 40 100]\n",
      " [ 60 140]]\n"
     ]
    }
   ],
   "source": [
    "a = np.array([\n",
    "    [0, 1],\n",
    "    [2, 3],\n",
    "    [4, 5],\n",
    "    [6, 7]\n",
    "])\n",
    "b = np.array([[10, 20]])\n",
    "print(a.shape, b.shape, (a*b).shape)\n",
    "print(a * b)"
   ]
  },
  {
   "cell_type": "code",
   "execution_count": 20,
   "id": "7274c6f5-5fd3-43d4-8f26-644d87764402",
   "metadata": {},
   "outputs": [
    {
     "name": "stdout",
     "output_type": "stream",
     "text": [
      "(4, 2) (4,)\n",
      "Broadcast error\n",
      "---------------\n"
     ]
    },
    {
     "ename": "ValueError",
     "evalue": "operands could not be broadcast together with shapes (4,2) (4,) ",
     "output_type": "error",
     "traceback": [
      "\u001b[1;31m---------------------------------------------------------------------------\u001b[0m",
      "\u001b[1;31mValueError\u001b[0m                                Traceback (most recent call last)",
      "\u001b[1;32m<ipython-input-20-871a123641b0>\u001b[0m in \u001b[0;36m<module>\u001b[1;34m\u001b[0m\n\u001b[0;32m      3\u001b[0m \u001b[0mprint\u001b[0m\u001b[1;33m(\u001b[0m\u001b[1;34m\"Broadcast error\"\u001b[0m\u001b[1;33m)\u001b[0m\u001b[1;33m\u001b[0m\u001b[1;33m\u001b[0m\u001b[0m\n\u001b[0;32m      4\u001b[0m \u001b[0mprint\u001b[0m\u001b[1;33m(\u001b[0m\u001b[1;34m\"---------------\"\u001b[0m\u001b[1;33m)\u001b[0m\u001b[1;33m\u001b[0m\u001b[1;33m\u001b[0m\u001b[0m\n\u001b[1;32m----> 5\u001b[1;33m \u001b[0ma\u001b[0m \u001b[1;33m*\u001b[0m \u001b[0mb\u001b[0m\u001b[1;33m\u001b[0m\u001b[1;33m\u001b[0m\u001b[0m\n\u001b[0m",
      "\u001b[1;31mValueError\u001b[0m: operands could not be broadcast together with shapes (4,2) (4,) "
     ]
    }
   ],
   "source": [
    "b = np.array([10, 20, 30, 40])\n",
    "print(a.shape, b.shape)\n",
    "print(\"Broadcast error\")\n",
    "print(\"---------------\")\n",
    "a * b\n"
   ]
  },
  {
   "cell_type": "code",
   "execution_count": 21,
   "id": "64758146-0d6d-4d1e-bd3e-7b14c63187e3",
   "metadata": {},
   "outputs": [
    {
     "data": {
      "text/plain": [
       "array([[  0,  10],\n",
       "       [ 40,  60],\n",
       "       [120, 150],\n",
       "       [240, 280]])"
      ]
     },
     "execution_count": 21,
     "metadata": {},
     "output_type": "execute_result"
    }
   ],
   "source": [
    "a * b[:, None]"
   ]
  },
  {
   "cell_type": "code",
   "execution_count": 22,
   "id": "79f80adc-725f-43e9-8f72-bd22054c11b7",
   "metadata": {},
   "outputs": [
    {
     "name": "stdout",
     "output_type": "stream",
     "text": [
      "c[i, j, k] = a[1, i, k] * b[j, 1, k]\n",
      "------------------------------\n",
      "(3, 2) (4, 2) (4, 3, 2)\n",
      "[[[ 0 20]\n",
      "  [10  0]\n",
      "  [10 20]]\n",
      "\n",
      " [[ 0 40]\n",
      "  [30  0]\n",
      "  [30 40]]\n",
      "\n",
      " [[ 0 60]\n",
      "  [50  0]\n",
      "  [50 60]]\n",
      "\n",
      " [[ 0 80]\n",
      "  [70  0]\n",
      "  [70 80]]]\n"
     ]
    }
   ],
   "source": [
    "a = np.array([\n",
    "    [0, 1],\n",
    "    [1, 0],\n",
    "    [1, 1]\n",
    "])\n",
    "b = np.array([\n",
    "    [10, 20],\n",
    "    [30, 40],\n",
    "    [50, 60],\n",
    "    [70, 80]\n",
    "])\n",
    "c = a[None] * b[:, None]\n",
    "print(\"c[i, j, k] = a[1, i, k] * b[j, 1, k]\")\n",
    "print(\"------------------------------\")\n",
    "print(a.shape, b.shape, c.shape)\n",
    "\n",
    "print(c)"
   ]
  },
  {
   "cell_type": "markdown",
   "id": "3841bb0b-060f-42ee-a7ea-b86a1b08df90",
   "metadata": {},
   "source": [
    "### Tensordot"
   ]
  },
  {
   "cell_type": "code",
   "execution_count": 23,
   "id": "04c0525c-6f1d-401f-863b-cd87dd82d7cf",
   "metadata": {},
   "outputs": [
    {
     "name": "stdout",
     "output_type": "stream",
     "text": [
      "Help on function tensordot in module numpy:\n",
      "\n",
      "tensordot(a, b, axes=2)\n",
      "    Compute tensor dot product along specified axes.\n",
      "    \n",
      "    Given two tensors, `a` and `b`, and an array_like object containing\n",
      "    two array_like objects, ``(a_axes, b_axes)``, sum the products of\n",
      "    `a`'s and `b`'s elements (components) over the axes specified by\n",
      "    ``a_axes`` and ``b_axes``. The third argument can be a single non-negative\n",
      "    integer_like scalar, ``N``; if it is such, then the last ``N`` dimensions\n",
      "    of `a` and the first ``N`` dimensions of `b` are summed over.\n",
      "    \n",
      "    Parameters\n",
      "    ----------\n",
      "    a, b : array_like\n",
      "        Tensors to \"dot\".\n",
      "    \n",
      "    axes : int or (2,) array_like\n",
      "        * integer_like\n",
      "          If an int N, sum over the last N axes of `a` and the first N axes\n",
      "          of `b` in order. The sizes of the corresponding axes must match.\n",
      "        * (2,) array_like\n",
      "          Or, a list of axes to be summed over, first sequence applying to `a`,\n",
      "          second to `b`. Both elements array_like must be of the same length.\n",
      "    \n",
      "    Returns\n",
      "    -------\n",
      "    output : ndarray\n",
      "        The tensor dot product of the input.\n",
      "    \n",
      "    See Also\n",
      "    --------\n",
      "    dot, einsum\n",
      "    \n",
      "    Notes\n",
      "    -----\n",
      "    Three common use cases are:\n",
      "        * ``axes = 0`` : tensor product :math:`a\\otimes b`\n",
      "        * ``axes = 1`` : tensor dot product :math:`a\\cdot b`\n",
      "        * ``axes = 2`` : (default) tensor double contraction :math:`a:b`\n",
      "    \n",
      "    When `axes` is integer_like, the sequence for evaluation will be: first\n",
      "    the -Nth axis in `a` and 0th axis in `b`, and the -1th axis in `a` and\n",
      "    Nth axis in `b` last.\n",
      "    \n",
      "    When there is more than one axis to sum over - and they are not the last\n",
      "    (first) axes of `a` (`b`) - the argument `axes` should consist of\n",
      "    two sequences of the same length, with the first axis to sum over given\n",
      "    first in both sequences, the second axis second, and so forth.\n",
      "    \n",
      "    The shape of the result consists of the non-contracted axes of the\n",
      "    first tensor, followed by the non-contracted axes of the second.\n",
      "    \n",
      "    Examples\n",
      "    --------\n",
      "    A \"traditional\" example:\n",
      "    \n",
      "    >>> a = np.arange(60.).reshape(3,4,5)\n",
      "    >>> b = np.arange(24.).reshape(4,3,2)\n",
      "    >>> c = np.tensordot(a,b, axes=([1,0],[0,1]))\n",
      "    >>> c.shape\n",
      "    (5, 2)\n",
      "    >>> c\n",
      "    array([[4400., 4730.],\n",
      "           [4532., 4874.],\n",
      "           [4664., 5018.],\n",
      "           [4796., 5162.],\n",
      "           [4928., 5306.]])\n",
      "    >>> # A slower but equivalent way of computing the same...\n",
      "    >>> d = np.zeros((5,2))\n",
      "    >>> for i in range(5):\n",
      "    ...   for j in range(2):\n",
      "    ...     for k in range(3):\n",
      "    ...       for n in range(4):\n",
      "    ...         d[i,j] += a[k,n,i] * b[n,k,j]\n",
      "    >>> c == d\n",
      "    array([[ True,  True],\n",
      "           [ True,  True],\n",
      "           [ True,  True],\n",
      "           [ True,  True],\n",
      "           [ True,  True]])\n",
      "    \n",
      "    An extended example taking advantage of the overloading of + and \\*:\n",
      "    \n",
      "    >>> a = np.array(range(1, 9))\n",
      "    >>> a.shape = (2, 2, 2)\n",
      "    >>> A = np.array(('a', 'b', 'c', 'd'), dtype=object)\n",
      "    >>> A.shape = (2, 2)\n",
      "    >>> a; A\n",
      "    array([[[1, 2],\n",
      "            [3, 4]],\n",
      "           [[5, 6],\n",
      "            [7, 8]]])\n",
      "    array([['a', 'b'],\n",
      "           ['c', 'd']], dtype=object)\n",
      "    \n",
      "    >>> np.tensordot(a, A) # third argument default is 2 for double-contraction\n",
      "    array(['abbcccdddd', 'aaaaabbbbbbcccccccdddddddd'], dtype=object)\n",
      "    \n",
      "    >>> np.tensordot(a, A, 1)\n",
      "    array([[['acc', 'bdd'],\n",
      "            ['aaacccc', 'bbbdddd']],\n",
      "           [['aaaaacccccc', 'bbbbbdddddd'],\n",
      "            ['aaaaaaacccccccc', 'bbbbbbbdddddddd']]], dtype=object)\n",
      "    \n",
      "    >>> np.tensordot(a, A, 0) # tensor product (result too long to incl.)\n",
      "    array([[[[['a', 'b'],\n",
      "              ['c', 'd']],\n",
      "              ...\n",
      "    \n",
      "    >>> np.tensordot(a, A, (0, 1))\n",
      "    array([[['abbbbb', 'cddddd'],\n",
      "            ['aabbbbbb', 'ccdddddd']],\n",
      "           [['aaabbbbbbb', 'cccddddddd'],\n",
      "            ['aaaabbbbbbbb', 'ccccdddddddd']]], dtype=object)\n",
      "    \n",
      "    >>> np.tensordot(a, A, (2, 1))\n",
      "    array([[['abb', 'cdd'],\n",
      "            ['aaabbbb', 'cccdddd']],\n",
      "           [['aaaaabbbbbb', 'cccccdddddd'],\n",
      "            ['aaaaaaabbbbbbbb', 'cccccccdddddddd']]], dtype=object)\n",
      "    \n",
      "    >>> np.tensordot(a, A, ((0, 1), (0, 1)))\n",
      "    array(['abbbcccccddddddd', 'aabbbbccccccdddddddd'], dtype=object)\n",
      "    \n",
      "    >>> np.tensordot(a, A, ((2, 1), (1, 0)))\n",
      "    array(['acccbbdddd', 'aaaaacccccccbbbbbbdddddddd'], dtype=object)\n",
      "\n"
     ]
    }
   ],
   "source": [
    "help(np.tensordot)"
   ]
  },
  {
   "cell_type": "code",
   "execution_count": 24,
   "id": "5598a7f2-061c-444e-b255-7f01d89ac43d",
   "metadata": {},
   "outputs": [
    {
     "name": "stdout",
     "output_type": "stream",
     "text": [
      "c[i, k] = Sum(a[i, j] * b[j, k]\n",
      "-------------------------------\n",
      "(3, 2) (2,)\n"
     ]
    },
    {
     "data": {
      "text/plain": [
       "array([ 4.5, -4.5, 10. ])"
      ]
     },
     "execution_count": 24,
     "metadata": {},
     "output_type": "execute_result"
    }
   ],
   "source": [
    "a = np.array([\n",
    "    [0.5, -0.5],\n",
    "    [-0.5, 0.5],\n",
    "    [1, 0.]\n",
    "])\n",
    "b = np.array([10, 1])\n",
    "print(\"c[i, k] = Sum(a[i, j] * b[j, k]\")\n",
    "print('-------------------------------')\n",
    "print(a.shape, b.shape)\n",
    "a @ b"
   ]
  },
  {
   "cell_type": "code",
   "execution_count": 25,
   "id": "74ec547f-3f82-441c-b2b0-a05157d58df8",
   "metadata": {},
   "outputs": [
    {
     "data": {
      "text/plain": [
       "array([ 4.5, -4.5, 10. ])"
      ]
     },
     "execution_count": 25,
     "metadata": {},
     "output_type": "execute_result"
    }
   ],
   "source": [
    "np.tensordot(\n",
    "    a, b,\n",
    "    axes=[1, 0]\n",
    ")"
   ]
  },
  {
   "cell_type": "code",
   "execution_count": 26,
   "id": "68ca5c32-1f6f-46bc-b576-d8e9bca65e78",
   "metadata": {},
   "outputs": [
    {
     "data": {
      "text/plain": [
       "array([[[ 0,  1,  2,  3],\n",
       "        [ 4,  5,  6,  7],\n",
       "        [ 8,  9, 10, 11]],\n",
       "\n",
       "       [[12, 13, 14, 15],\n",
       "        [16, 17, 18, 19],\n",
       "        [20, 21, 22, 23]]])"
      ]
     },
     "execution_count": 26,
     "metadata": {},
     "output_type": "execute_result"
    }
   ],
   "source": [
    "a = np.arange(2* 3 *4).reshape((2, 3 ,4))\n",
    "a"
   ]
  },
  {
   "cell_type": "code",
   "execution_count": 27,
   "id": "b409d55f-6030-41d1-b9cb-bc29396d07eb",
   "metadata": {},
   "outputs": [
    {
     "data": {
      "text/plain": [
       "array([[0, 1],\n",
       "       [0, 1],\n",
       "       [0, 1],\n",
       "       [0, 1]], dtype=int32)"
      ]
     },
     "execution_count": 27,
     "metadata": {},
     "output_type": "execute_result"
    }
   ],
   "source": [
    "b = np.arange(4 * 2).reshape((4, 2)) % 2\n",
    "b"
   ]
  },
  {
   "cell_type": "code",
   "execution_count": 28,
   "id": "3990d1e2-91f2-4c45-a9b3-cad8dde58baa",
   "metadata": {},
   "outputs": [
    {
     "data": {
      "text/plain": [
       "array([54, 70, 86])"
      ]
     },
     "execution_count": 28,
     "metadata": {},
     "output_type": "execute_result"
    }
   ],
   "source": [
    "np.tensordot(\n",
    "    a, b,\n",
    "    axes=[\n",
    "        [-1, 0],\n",
    "        [0, 1]\n",
    "    ]\n",
    ")"
   ]
  },
  {
   "cell_type": "markdown",
   "id": "48550b39-3a53-4a67-aabc-c1a37cd9d66f",
   "metadata": {},
   "source": [
    "### View vs Copy"
   ]
  },
  {
   "cell_type": "code",
   "execution_count": 29,
   "id": "90e0cbf5-607f-497a-9a23-0d5c4d307e5a",
   "metadata": {},
   "outputs": [
    {
     "name": "stdout",
     "output_type": "stream",
     "text": [
      "[[[17.33 18.33 19.33]\n",
      "  [21.33 22.33 23.33]]]\n",
      "---------\n",
      "[[[ 0.    1.    2.    3.  ]\n",
      "  [ 4.    5.    6.    7.  ]\n",
      "  [ 8.    9.   10.   11.  ]]\n",
      "\n",
      " [[12.   13.   14.   15.  ]\n",
      "  [16.   17.33 18.33 19.33]\n",
      "  [20.   21.33 22.33 23.33]]]\n"
     ]
    }
   ],
   "source": [
    "a = np.arange(2 * 3 * 4).reshape((2, 3 , 4)).astype(float)\n",
    "b = a[1:, 1:, 1:]\n",
    "b += 0.33\n",
    "print(b)\n",
    "print(\"---------\")\n",
    "print(a)"
   ]
  },
  {
   "cell_type": "code",
   "execution_count": 30,
   "id": "dd22b343-b5e4-4b8a-9ae2-1bddbda5ca34",
   "metadata": {},
   "outputs": [
    {
     "name": "stdout",
     "output_type": "stream",
     "text": [
      "17.33\n",
      "---------\n",
      "[[[ 0.  1.  2.  3.]\n",
      "  [ 4.  5.  6.  7.]\n",
      "  [ 8.  9. 10. 11.]]\n",
      "\n",
      " [[12. 13. 14. 15.]\n",
      "  [16. 17. 18. 19.]\n",
      "  [20. 21. 22. 23.]]]\n"
     ]
    }
   ],
   "source": [
    "a = np.arange(2 * 3 * 4).reshape((2, 3 , 4)).astype(float)\n",
    "b = a[1, 1, 1]\n",
    "b += 0.33\n",
    "print(b)\n",
    "print(\"---------\")\n",
    "print(a)"
   ]
  },
  {
   "cell_type": "code",
   "execution_count": 31,
   "id": "7b41b6e9-a7f6-4f53-ade6-4b2a1c8c8e38",
   "metadata": {},
   "outputs": [
    {
     "name": "stdout",
     "output_type": "stream",
     "text": [
      "[[[[17.33 18.33 19.33]\n",
      "   [21.33 22.33 23.33]]]]\n",
      "---------\n",
      "[[[ 0.    1.    2.    3.  ]\n",
      "  [ 4.    5.    6.    7.  ]\n",
      "  [ 8.    9.   10.   11.  ]]\n",
      "\n",
      " [[12.   13.   14.   15.  ]\n",
      "  [16.   17.33 18.33 19.33]\n",
      "  [20.   21.33 22.33 23.33]]]\n"
     ]
    }
   ],
   "source": [
    "a = np.arange(2 * 3 * 4).reshape((2, 3 , 4)).astype(float)\n",
    "b = a[None, 1:, 1:, 1:]\n",
    "b += 0.33\n",
    "print(b)\n",
    "print(\"---------\")\n",
    "print(a)"
   ]
  },
  {
   "cell_type": "code",
   "execution_count": 32,
   "id": "2e0f699e-4861-4476-9441-5fc540c054b9",
   "metadata": {},
   "outputs": [
    {
     "name": "stdout",
     "output_type": "stream",
     "text": [
      "[[[ 0.    1.    2.    3.33]\n",
      "  [ 4.    5.    6.    7.33]\n",
      "  [ 8.    9.   10.   11.33]]\n",
      "\n",
      " [[12.   13.   14.   15.  ]\n",
      "  [16.   17.   18.   19.  ]\n",
      "  [20.   21.   22.   23.  ]]]\n"
     ]
    }
   ],
   "source": [
    "a = np.arange(2 * 3 * 4).reshape((2, 3 , 4)).astype(float)\n",
    "a[[0,0,0],[0, 1, 2], [-1, -1, -1]] += 0.33\n",
    "print(a)"
   ]
  },
  {
   "cell_type": "code",
   "execution_count": 33,
   "id": "bc3f183e-1941-4035-b599-5f15e6abb15e",
   "metadata": {},
   "outputs": [
    {
     "name": "stdout",
     "output_type": "stream",
     "text": [
      "[[[ 0.  1.  2.  3.]\n",
      "  [ 4.  5.  6.  7.]\n",
      "  [ 8.  9. 10. 11.]]\n",
      "\n",
      " [[12. 13. 14. 15.]\n",
      "  [16. 17. 18. 19.]\n",
      "  [20. 21. 22. 23.]]]\n"
     ]
    }
   ],
   "source": [
    "a = np.arange(2 * 3 * 4).reshape((2, 3 , 4)).astype(float)\n",
    "b = a[[0,0,0],[0, 1, 2], [-1, -1, -1]] \n",
    "b += 0.33\n",
    "print(a)"
   ]
  },
  {
   "cell_type": "code",
   "execution_count": null,
   "id": "5c5fa34b-17b9-4958-9f04-f46cd8db32cd",
   "metadata": {},
   "outputs": [],
   "source": []
  },
  {
   "cell_type": "code",
   "execution_count": null,
   "id": "6bb203be-75d5-4946-bbc7-ef6c5781e1fc",
   "metadata": {},
   "outputs": [],
   "source": []
  }
 ],
 "metadata": {
  "kernelspec": {
   "display_name": "Python 3",
   "language": "python",
   "name": "python3"
  },
  "language_info": {
   "codemirror_mode": {
    "name": "ipython",
    "version": 3
   },
   "file_extension": ".py",
   "mimetype": "text/x-python",
   "name": "python",
   "nbconvert_exporter": "python",
   "pygments_lexer": "ipython3",
   "version": "3.7.6"
  }
 },
 "nbformat": 4,
 "nbformat_minor": 5
}
